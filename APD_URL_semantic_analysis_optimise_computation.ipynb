{
  "nbformat": 4,
  "nbformat_minor": 0,
  "metadata": {
    "colab": {
      "name": "APD-URL_semantic_analysis_optimise_computation.ipynb",
      "provenance": [],
      "collapsed_sections": []
    },
    "kernelspec": {
      "name": "python3",
      "display_name": "Python 3"
    }
  },
  "cells": [
    {
      "cell_type": "markdown",
      "metadata": {
        "id": "d6RBbUE-tvVT",
        "colab_type": "text"
      },
      "source": [
        "# CLUE : Clustering for Mining Web URL"
      ]
    },
    {
      "cell_type": "markdown",
      "metadata": {
        "id": "mqgEN1gruQsJ",
        "colab_type": "text"
      },
      "source": [
        "We aim at finding a method for digging inside a data set of URLs. The main purpose is the obtention of a clustering workflow that would allow us to directly get segments of similar URLs from stream-like data with no need for manual rule creation.\n",
        "\n",
        "Part of this work began in the notebook APD_Structure-URL https://colab.research.google.com/drive/1MFrvUJTGmmvTe_WAI8HmI-QeTkzwXEix with some exploratory data analysis and application of URL transformation based on pattern tree construction rules.\n",
        "\n",
        "Work presented on the current notebook is based on work from Morichetta et al.  (2017) who developed a non-specific tool for analysing massive URL data sets using text-mining methods https://www.researchgate.net/publication/312183704_CLUE_Clustering_for_Mining_Web_URLs"
      ]
    },
    {
      "cell_type": "markdown",
      "metadata": {
        "id": "nt93lh33wTGT",
        "colab_type": "text"
      },
      "source": [
        "## Import URL data"
      ]
    },
    {
      "cell_type": "code",
      "metadata": {
        "id": "dRsiFwS6tVan",
        "colab_type": "code",
        "colab": {
          "base_uri": "https://localhost:8080/",
          "height": 70
        },
        "outputId": "a9d7a535-6f48-4165-c5e2-f8c33dea3fc1"
      },
      "source": [
        "from google.colab import auth\n",
        "auth.authenticate_user()\n",
        "import sys\n",
        "import numba as nb\n",
        "\n",
        "import pandas as pd\n",
        "import numpy as np\n",
        "from scipy.spatial import distance\n",
        "from sklearn.cluster import dbscan\n",
        "from scipy.spatial.distance import pdist, squareform\n",
        "import matplotlib.pyplot as plt\n",
        "import matplotlib.gridspec as gridspec\n",
        "%matplotlib inline\n",
        "import seaborn as sns\n",
        "sns.set_style('whitegrid')\n",
        "sns.set(rc={'figure.figsize': (8,8)})\n",
        "\n",
        "# https://cloud.google.com/resource-manager/docs/creating-managing-projects\n",
        "project_id = 'tr-tech-innovation-dev'\n",
        "\n",
        "df_url = pd.io.gbq.read_gbq(\n",
        "    '''\n",
        "    SELECT\n",
        "    *\n",
        "    FROM `tr-tech-innovation-dev.ADP.debug_table`\n",
        "    ''', \n",
        "    project_id=project_id)\n",
        "df_url = df_url.loc[pd.notna(df_url['name'])]\n",
        "df_url = df_url.rename(columns={'dv360_url': 'url',\n",
        "                                'name': 'segment_name',\n",
        "                                'url_count': 'impressions'})"
      ],
      "execution_count": 1,
      "outputs": [
        {
          "output_type": "stream",
          "text": [
            "/usr/local/lib/python3.6/dist-packages/statsmodels/tools/_testing.py:19: FutureWarning: pandas.util.testing is deprecated. Use the functions in the public API at pandas.testing instead.\n",
            "  import pandas.util.testing as tm\n"
          ],
          "name": "stderr"
        }
      ]
    },
    {
      "cell_type": "code",
      "metadata": {
        "id": "tGNZ3QzWx7yp",
        "colab_type": "code",
        "colab": {
          "base_uri": "https://localhost:8080/",
          "height": 50
        },
        "outputId": "5c63a818-0a71-4127-8aed-8ff568421da3"
      },
      "source": [
        "print('Total URL: %i' %len(df_url['url']))\n",
        "print('Unique URL: %i' %df_url['url'].nunique())"
      ],
      "execution_count": 2,
      "outputs": [
        {
          "output_type": "stream",
          "text": [
            "Total URL: 35969\n",
            "Unique URL: 10411\n"
          ],
          "name": "stdout"
        }
      ]
    },
    {
      "cell_type": "markdown",
      "metadata": {
        "id": "gnoK9iKztpdw",
        "colab_type": "text"
      },
      "source": [
        "## 1. URL-distances"
      ]
    },
    {
      "cell_type": "markdown",
      "metadata": {
        "id": "-AN0zSvWv7h_",
        "colab_type": "text"
      },
      "source": [
        "URL distance computation does not have real-time constriants and can be schedule when the data collection is complete, or also on demand.\n",
        "\n",
        "The concept of **distance** refers to a specific class of dissimilarity measures that aim at quantifying how much two points $x_1$ and $x_2$ are far apart in a numerical way. A dissimilarity measure must meet 3 propreties in order to be called a distance :\n",
        "\n",
        "- **positivity** : $\\forall (x_1, x_2), d(x_1, x_2) \\geq 0$ ; $d(x_1, x_2) = 0 \\iff x_1 = x_2$\n",
        "- **symmetry** : $\\forall (x_1, x_2), d(x_1, x_2) = d(x_2, x_1)$\n",
        "- **triangle inequality** : $\\forall (x_1, x_2, x_3), d(x_1, x_3) \\leq d(x_1, x_2) + d(x_2, x_3)$\n",
        "\n",
        "Let's bear in mind that in order to facilitate the clustering of URLs (which is our main goal), we want to keep distances between URLs concentrated within given ranges."
      ]
    },
    {
      "cell_type": "markdown",
      "metadata": {
        "id": "WjwFTpBOt-H4",
        "colab_type": "text"
      },
      "source": [
        "### 1.1 Levenshtein distance"
      ]
    },
    {
      "cell_type": "markdown",
      "metadata": {
        "id": "uZdFqLWsOTbA",
        "colab_type": "text"
      },
      "source": [
        "The Levenshtein distance $d_{LVS}(s_1, s_2)$ assigns a unitary cost for all editing operations (insert, remove, replace). It computes an absolute distance  between pairs of strings that is **at most equal to the length of the longest string**. This has to be kept in mind as it might make the Levensthein distance inconvenient when it comes to comparing a very short URL against a very long one.\n",
        "\n",
        "The Levenshtein distance is defined as:\n",
        "\n",
        "$d_{LVS}(i,j) = \\max(i,j)$ if $\\min(i,j) = 0$\n",
        "\n",
        "$d_{LVS}(i,j) = \\min(d_{LVS}(i-1, j),~d_{LVS}(i, j-1),~d_{LVS}(i-1, j-1)+I(s_{1i}\\neq s_{2i}))$ otherwise\n",
        "\n",
        "Where $d_{LVS}(i,j)$ is the distance between the first $i$ characters of $s_1$ and the first $j$ characters of $s_2$ and $I$ is the indicator function, here equal to $0$ when $s_{1i} = s_{2j}$"
      ]
    },
    {
      "cell_type": "code",
      "metadata": {
        "id": "uD-udWzq0e4q",
        "colab_type": "code",
        "colab": {}
      },
      "source": [
        "def levenshtein_distance(s1, s2):\n",
        "  l1, l2 = len(s1), len(s2)\n",
        "\n",
        "  if s1 == s2:\n",
        "    return np.float64(0)\n",
        "  elif l1 == 0:\n",
        "    return np.float64(l2)\n",
        "  elif l2 == 0:\n",
        "    return np.float64(l1)\n",
        "  \n",
        "  v0 = np.array([None]*(l2+1))\n",
        "  v1 = np.array([None]*(l2+1))\n",
        "  for i in range(len(v0)):\n",
        "    v0[i] = i\n",
        "  for i in range(l1):\n",
        "    v1[0] = i+1\n",
        "    for j in range(l2):\n",
        "      if s1[i] == s2[j]:\n",
        "        C = np.float64(0)\n",
        "      else:\n",
        "        C = np.float64(1)\n",
        "      v1[j+1] = min(v1[j]+1, v0[j+1]+1, v0[j]+C)\n",
        "    for j in range(len(v0)):\n",
        "      v0[j] = v1[j]\n",
        "\n",
        "  return v1[l2]"
      ],
      "execution_count": 3,
      "outputs": []
    },
    {
      "cell_type": "markdown",
      "metadata": {
        "id": "Rj2pK59ouB74",
        "colab_type": "text"
      },
      "source": [
        "### 1.2 Jaro distance"
      ]
    },
    {
      "cell_type": "markdown",
      "metadata": {
        "id": "4GExMhx1a_A4",
        "colab_type": "text"
      },
      "source": [
        "The Jaro distance $d_{JRO}(s_1, s_2)$ considers **the number and the order  of common characters between two strings**.\n",
        "\n",
        "$d_{JRO} = 1$ if $m = 0$\n",
        "\n",
        "$d_{JRO} = 1 - \\frac{1}{3}(\\frac{m}{|s_1|}+\\frac{m}{|s_2|}+\\frac{m-t}{m})$ otherwise\n",
        "\n",
        "where $m$ is the number of matching characters and $t$ is half the number of  transpositions."
      ]
    },
    {
      "cell_type": "code",
      "metadata": {
        "id": "g6pH5eYBKkvp",
        "colab_type": "code",
        "colab": {}
      },
      "source": [
        "def jaro_distance(s1, s2):\n",
        "  l1, l2 = len(s1), len(s2)\n",
        "\n",
        "  if l1 == 0 and l2 == 0:\n",
        "    return np.float64(1)\n",
        "  \n",
        "  match_distance = max(l1, l2)//2 - 1\n",
        "  s1_matches = np.array([None]*l1)\n",
        "  s2_matches = np.array([None]*l2)\n",
        "\n",
        "  m, t = np.float64(0), np.float64(0)\n",
        "\n",
        "  for i in range(l1):\n",
        "    start = max(0, i-match_distance)\n",
        "    end = min(i+match_distance+1, l2)\n",
        "\n",
        "    for j in range(start, end):\n",
        "      if s2_matches[j]:\n",
        "        continue\n",
        "      if s1[i] != s2[j]:\n",
        "        continue\n",
        "      s1_matches[i] = True\n",
        "      s2_matches[j] = True\n",
        "      m += np.float64(1)\n",
        "      break\n",
        "  \n",
        "  if m == 0:\n",
        "    return np.float64(1)\n",
        "  \n",
        "  k = 0\n",
        "  for i in range(l1):\n",
        "    if not s1_matches[i]:\n",
        "      continue\n",
        "    while not s2_matches[k]:\n",
        "      k += 1\n",
        "    if s1[i] != s2[k]:\n",
        "      t += 1\n",
        "    k += 1\n",
        "\n",
        "  return np.float64(1-(1./3)*(m/l1+m/l2+(m-t/2)/m))"
      ],
      "execution_count": 4,
      "outputs": []
    },
    {
      "cell_type": "markdown",
      "metadata": {
        "id": "MKUtXED6uD_Q",
        "colab_type": "text"
      },
      "source": [
        "### 1.3 URL distance"
      ]
    },
    {
      "cell_type": "markdown",
      "metadata": {
        "id": "BeyQSnJsuM8n",
        "colab_type": "text"
      },
      "source": [
        "This distance calculation $d_{URL}$ is inspired from a custom modification of the Levenshtein distance $d_{LVS_2}$. Here total number of insertions and deletions are counted and **replacement is weighted by a factor of 2**. In the end, a replacement is considered as the combination of an insertion and a deletion. **String length is also considered and results are normalised in $[0,1]$**.\n",
        "\n",
        "$d_{URL}(s_1, s_2) = 1 - \\frac{|s_1|+|s_2|-d_{LVS_2}(s_1, s_2)}{|s_1|+|s_2|}$\n",
        "\n",
        "we get $d_{URL}(s_1, s_2) = 0 \\iff s_1 = s_2$ and $d_{URL}(s_1, s_2) = 1$ if $s_1$ and $s_2$ are totally different."
      ]
    },
    {
      "cell_type": "code",
      "metadata": {
        "id": "JtB_aNKG0mz5",
        "colab_type": "code",
        "colab": {}
      },
      "source": [
        "def levenshtein_distance2(s1, s2):\n",
        "  l1, l2 = len(s1), len(s2)\n",
        "\n",
        "  if s1 == s2:\n",
        "    return np.float64(0)\n",
        "  elif l1 == 0:\n",
        "    return np.float64(l2)\n",
        "  elif l2 == 0:\n",
        "    return np.float64(l1)\n",
        "  \n",
        "  v0 = np.array([None]*(l2+1))\n",
        "  v1 = np.array([None]*(l2+1))\n",
        "  for i in range(len(v0)):\n",
        "    v0[i] = i\n",
        "  for i in range(l1):\n",
        "    v1[0] = i+1\n",
        "    for j in range(l2):\n",
        "      if s1[i] == s2[j]:\n",
        "        C = np.float64(0)\n",
        "      else:\n",
        "        C = np.float64(2)\n",
        "      v1[j+1] = min(v1[j]+1, v0[j+1]+1, v0[j]+C)\n",
        "    for j in range(len(v0)):\n",
        "      v0[j] = v1[j]\n",
        "\n",
        "  return v1[l2]\n",
        "\n",
        "def url_distance(s1, s2):\n",
        "  l1, l2 = len(s1), len(s2)\n",
        "\n",
        "  if s1 == s2:\n",
        "    return np.float64(0)\n",
        "  elif l1 == 0:\n",
        "    return np.float64(l2)\n",
        "  elif l2 == 0:\n",
        "    return np.float64(l1)\n",
        "\n",
        "  return np.float64(1 - (l1+l2-levenshtein_distance2(s1, s2))/(l1+l2))"
      ],
      "execution_count": 102,
      "outputs": []
    },
    {
      "cell_type": "code",
      "metadata": {
        "id": "FOLbK9LVDVzV",
        "colab_type": "code",
        "colab": {}
      },
      "source": [
        "def levenshtein_distance2_nonumpy(s1, s2):\n",
        "  l1, l2 = len(s1), len(s2)\n",
        "\n",
        "  if s1 == s2:\n",
        "    return 0\n",
        "  elif l1 == 0:\n",
        "    return l2\n",
        "  elif l2 == 0:\n",
        "    return l1\n",
        "  \n",
        "  v0 = [None]*(l2+1)\n",
        "  v1 = [None]*(l2+1)\n",
        "  for i in range(len(v0)):\n",
        "    v0[i] = i\n",
        "  for i in range(l1):\n",
        "    v1[0] = i+1\n",
        "    for j in range(l2):\n",
        "      if s1[i] == s2[j]:\n",
        "        C = 0\n",
        "      else:\n",
        "        C = 2\n",
        "      v1[j+1] = min(v1[j]+1, v0[j+1]+1, v0[j]+C)\n",
        "    for j in range(len(v0)):\n",
        "      v0[j] = v1[j]\n",
        "\n",
        "  return v1[l2]\n",
        "\n",
        "def url_distance_nonumpy(s1, s2):\n",
        "  l1, l2 = len(s1), len(s2)\n",
        "\n",
        "  if s1 == s2:\n",
        "    return 0\n",
        "  elif l1 == 0:\n",
        "    return l2\n",
        "  elif l2 == 0:\n",
        "    return l1\n",
        "\n",
        "  return 1 - (l1+l2-levenshtein_distance2_nonumpy(s1, s2))/(l1+l2)"
      ],
      "execution_count": 6,
      "outputs": []
    },
    {
      "cell_type": "code",
      "metadata": {
        "id": "1itwlTRSC63n",
        "colab_type": "code",
        "colab": {}
      },
      "source": [
        "s1, s2 = 'google.com', '1goggle.com'"
      ],
      "execution_count": 7,
      "outputs": []
    },
    {
      "cell_type": "code",
      "metadata": {
        "id": "OMwLAn5BC0Hw",
        "colab_type": "code",
        "colab": {
          "base_uri": "https://localhost:8080/",
          "height": 33
        },
        "outputId": "f1b12333-1d6a-44ae-b14f-a61ef278e910"
      },
      "source": [
        "%%timeit\n",
        "levenshtein_distance(s1, s2)"
      ],
      "execution_count": 8,
      "outputs": [
        {
          "output_type": "stream",
          "text": [
            "1000 loops, best of 3: 204 µs per loop\n"
          ],
          "name": "stdout"
        }
      ]
    },
    {
      "cell_type": "code",
      "metadata": {
        "id": "IET_KWTEDDmY",
        "colab_type": "code",
        "colab": {
          "base_uri": "https://localhost:8080/",
          "height": 33
        },
        "outputId": "9a541a58-dca2-4aa5-bd82-148cc1cc4007"
      },
      "source": [
        "%%timeit\n",
        "jaro_distance(s1, s2)"
      ],
      "execution_count": 9,
      "outputs": [
        {
          "output_type": "stream",
          "text": [
            "10000 loops, best of 3: 24.4 µs per loop\n"
          ],
          "name": "stdout"
        }
      ]
    },
    {
      "cell_type": "code",
      "metadata": {
        "id": "4HSMo0FbDG7p",
        "colab_type": "code",
        "colab": {
          "base_uri": "https://localhost:8080/",
          "height": 33
        },
        "outputId": "4dc15b04-948f-4875-f9f2-b937381960b8"
      },
      "source": [
        "%%timeit\n",
        "url_distance(s1, s2)"
      ],
      "execution_count": 10,
      "outputs": [
        {
          "output_type": "stream",
          "text": [
            "1000 loops, best of 3: 199 µs per loop\n"
          ],
          "name": "stdout"
        }
      ]
    },
    {
      "cell_type": "code",
      "metadata": {
        "id": "L7wherDRDfh2",
        "colab_type": "code",
        "colab": {
          "base_uri": "https://localhost:8080/",
          "height": 33
        },
        "outputId": "2d9450a1-01d5-4598-8ee8-8541f59fac55"
      },
      "source": [
        "%%timeit\n",
        "url_distance_nonumpy(s1, s2)"
      ],
      "execution_count": 11,
      "outputs": [
        {
          "output_type": "stream",
          "text": [
            "10000 loops, best of 3: 51.8 µs per loop\n"
          ],
          "name": "stdout"
        }
      ]
    },
    {
      "cell_type": "code",
      "metadata": {
        "id": "QDCziN75p17G",
        "colab_type": "code",
        "colab": {
          "base_uri": "https://localhost:8080/",
          "height": 66
        },
        "outputId": "d1949d36-94e6-4e0c-a3d1-79c2316228bb"
      },
      "source": [
        "#CLUE article test example\n",
        "s1, s2 = 'google.com', '1goggle.com'\n",
        "print('dLVS(\\'{}\\', \\'{}\\') = %s'.format(s1, s2)  %np.round(levenshtein_distance(s1, s2),3))\n",
        "print('dJRO(\\'{}\\', \\'{}\\') = %s'.format(s1, s2)  %np.round(jaro_distance(s1, s2),3))\n",
        "print('dURL(\\'{}\\', \\'{}\\') = %s'.format(s1, s2)  %np.round(url_distance(s1, s2),3))\n",
        "\n",
        "#\n",
        "#dLVS('google.com', '1goggle.com') = 2\n",
        "#dJRO('google.com', '1goggle.com') = 0.094\n",
        "#dURL('google.com', '1goggle.com') = 0.143\n",
        "#"
      ],
      "execution_count": 103,
      "outputs": [
        {
          "output_type": "stream",
          "text": [
            "dLVS('google.com', '1goggle.com') = 2.0\n",
            "dJRO('google.com', '1goggle.com') = 0.094\n",
            "dURL('google.com', '1goggle.com') = 0.143\n"
          ],
          "name": "stdout"
        }
      ]
    },
    {
      "cell_type": "markdown",
      "metadata": {
        "id": "SNRa71JcOnS0",
        "colab_type": "text"
      },
      "source": [
        "### 1.4 Distances CDF and distance measure selection"
      ]
    },
    {
      "cell_type": "markdown",
      "metadata": {
        "id": "pUOG5zqWZHaR",
        "colab_type": "text"
      },
      "source": [
        "#### 1.4.1 Format URLs "
      ]
    },
    {
      "cell_type": "code",
      "metadata": {
        "id": "6zBcu8sfTbyO",
        "colab_type": "code",
        "colab": {
          "base_uri": "https://localhost:8080/",
          "height": 33
        },
        "outputId": "233c00a9-fb8c-40fb-9432-d193984343b9"
      },
      "source": [
        "U = df_url['url'].drop_duplicates().sample(frac=0.005).to_numpy(dtype='str')\n",
        "print('Unique URL: %i' %len(U))"
      ],
      "execution_count": null,
      "outputs": [
        {
          "output_type": "stream",
          "text": [
            "Unique URL: 52\n"
          ],
          "name": "stdout"
        }
      ]
    },
    {
      "cell_type": "markdown",
      "metadata": {
        "id": "RWM_JtBHeiBJ",
        "colab_type": "text"
      },
      "source": [
        "#### 1.4.2 Levenshtein distance"
      ]
    },
    {
      "cell_type": "code",
      "metadata": {
        "id": "e4gCtIiJOoNK",
        "colab_type": "code",
        "colab": {
          "base_uri": "https://localhost:8080/",
          "height": 550
        },
        "outputId": "07149cb2-fec7-4f3c-8854-e5098b3a3ad8"
      },
      "source": [
        "%%time\n",
        "#calculate distances between each pair of URLs\n",
        "lvs_matrix = np.zeros((len(U),len(U)), dtype=np.float)\n",
        "for i in range(0, len(U)):\n",
        "  for j in range(0, len(U)):\n",
        "      lvs_matrix[i,j] = np.round(levenshtein_distance(U[i],U[j]),2)\n",
        "\n",
        "#build CDF array\n",
        "to_plot_lvs = lvs_matrix.ravel()\n",
        "to_plot_lvs_sorted = np.sort(to_plot_lvs)\n",
        "p = 1.*np.arange(len(to_plot_lvs))/(len(to_plot_lvs)-1)\n",
        "\n",
        "#plot CDF\n",
        "plot = sns.lineplot(to_plot_lvs_sorted, p)\n",
        "plot.set(title='Cumulative distribution function of Levenshtein distance on the URL data set',\n",
        "         xlabel='dLVS',\n",
        "         ylabel='CDF');\n",
        "plot.set(ylim=[0, 1]);    "
      ],
      "execution_count": null,
      "outputs": [
        {
          "output_type": "stream",
          "text": [
            "CPU times: user 12.6 s, sys: 7.37 ms, total: 12.6 s\n",
            "Wall time: 12.6 s\n"
          ],
          "name": "stdout"
        },
        {
          "output_type": "display_data",
          "data": {
            "image/png": "[encoded data removed]",
            "text/plain": [
              "<Figure size 576x576 with 1 Axes>"
            ]
          },
          "metadata": {
            "tags": []
          }
        }
      ]
    },
    {
      "cell_type": "markdown",
      "metadata": {
        "id": "PYD_RDddcMmH",
        "colab_type": "text"
      },
      "source": [
        "#### 1.4.3 Jaro distance"
      ]
    },
    {
      "cell_type": "code",
      "metadata": {
        "id": "aJkImaHJeuyv",
        "colab_type": "code",
        "colab": {
          "base_uri": "https://localhost:8080/",
          "height": 550
        },
        "outputId": "8c459314-70e1-4dca-a922-b4ff61d645a8"
      },
      "source": [
        "%%time\n",
        "#calculate distances between each pair of URLs\n",
        "jro_matrix = np.zeros((len(U),len(U)), dtype=np.float)\n",
        "for i in range(0, len(U)):\n",
        "  for j in range(0, len(U)):\n",
        "      jro_matrix[i,j] = np.round(jaro_distance(U[i],U[j]),3)\n",
        "\n",
        "#build CDF array\n",
        "to_plot_jro = jro_matrix.ravel()\n",
        "to_plot_jro_sorted = np.sort(to_plot_jro)\n",
        "p = 1.*np.arange(len(to_plot_jro))/(len(to_plot_jro)-1)\n",
        "\n",
        "#plot CDF\n",
        "plot = sns.lineplot(to_plot_jro_sorted, p)\n",
        "plot.set(title='Cumulative distribution function of Jaro distance on the URL data set',\n",
        "         xlabel='dJRO',\n",
        "         ylabel='CDF');\n",
        "plot.set(ylim=[0, 1]);       "
      ],
      "execution_count": null,
      "outputs": [
        {
          "output_type": "stream",
          "text": [
            "CPU times: user 4.99 s, sys: 10 ms, total: 5 s\n",
            "Wall time: 5 s\n"
          ],
          "name": "stdout"
        },
        {
          "output_type": "display_data",
          "data": {
            "image/png": "[encoded data removed]",
            "text/plain": [
              "<Figure size 576x576 with 1 Axes>"
            ]
          },
          "metadata": {
            "tags": []
          }
        }
      ]
    },
    {
      "cell_type": "markdown",
      "metadata": {
        "id": "b_eVD74Meo0_",
        "colab_type": "text"
      },
      "source": [
        "#### 1.4.4 URL distance"
      ]
    },
    {
      "cell_type": "code",
      "metadata": {
        "id": "i3t2aXvcevWi",
        "colab_type": "code",
        "colab": {
          "base_uri": "https://localhost:8080/",
          "height": 550
        },
        "outputId": "64db89da-2b6f-46f8-e4f7-6f45087d475a"
      },
      "source": [
        "%%time\n",
        "#calculate distances between each pair of URLs\n",
        "url_matrix = np.zeros((len(U),len(U)), dtype=np.float)\n",
        "for i in range(0, len(U)):\n",
        "  for j in range(0, len(U)):\n",
        "      url_matrix[i,j] = np.round(url_distance(U[i],U[j]),3)\n",
        "#print(url_matrix)\n",
        "\n",
        "#build CDF array\n",
        "to_plot_url = url_matrix.ravel()\n",
        "to_plot_url_sorted = np.sort(to_plot_url)\n",
        "p = 1.*np.arange(len(to_plot_url))/(len(to_plot_url)-1)\n",
        "\n",
        "#plot CDF\n",
        "plot = sns.lineplot(to_plot_url_sorted, p)\n",
        "plot.set(title='Cumulative distribution function of URL distance on the URL data set',\n",
        "         xlabel='dURL',\n",
        "         ylabel='CDF');\n",
        "plot.set(ylim=[0, 1]);"
      ],
      "execution_count": null,
      "outputs": [
        {
          "output_type": "stream",
          "text": [
            "CPU times: user 15.7 s, sys: 4.95 ms, total: 15.7 s\n",
            "Wall time: 15.7 s\n"
          ],
          "name": "stdout"
        },
        {
          "output_type": "display_data",
          "data": {
            "image/png": "[encoded data removed]",
            "text/plain": [
              "<Figure size 576x576 with 1 Axes>"
            ]
          },
          "metadata": {
            "tags": []
          }
        }
      ]
    },
    {
      "cell_type": "markdown",
      "metadata": {
        "id": "hPBvYSQkaERW",
        "colab_type": "text"
      },
      "source": [
        "## 2. URL clustering"
      ]
    },
    {
      "cell_type": "markdown",
      "metadata": {
        "id": "4tO8rfVjaIvS",
        "colab_type": "text"
      },
      "source": [
        "Here we aim at grouping together points according to the $d_{URL}$ distance function introduced above. URLs grouped in the same cluster share common features and we'll see if we can further consider that they represent a segment.\n",
        "\n",
        "Clustering is performed using **DBSCAN**, a density-based clustering method, which shows several advantages over centroid-based approaches (such as *k-means clustering*):\n",
        "- there is no need for prior knowledge of the total number of clusters\n",
        "- arbitrarily-shaped clusters can be discovered\n",
        "- outliers are considered and some may be left apart clustering as noise\n",
        "\n",
        "Illustration : let us consider a set of points in a sample space to be clustered. Let $d(x_1, x_2)$ be the distance between two points $x_1$ and $x_2$. Consider now the sphere of radius $r$ centered in $x_1$. If at least $minPoints$ are within distance $d \\leq r$ from $x_1$, then $x_1$ is classified as **core point**. The $minPoints$ are defiend as *directly reachable* from $x_1$. \n",
        "A given point $x_k$ is said to be *reachable* from $x_1$ if there exists a path $x_1, x_2, \\dots, x_k$ so that $x_{i+1}$ is directly reachable from $x_i$. The subset of reachable points from $x_1$ form a **cluster**, i.e. a **dense region**. \n",
        "Points that are not reachable from $x_1$ are **outliers**, they may form a separate cluster if they fall in a separate dense region, or remain in the noise region as outliers.\n",
        "\n",
        "Although $minPoints$ and $r$ can be tuned by the user, the critical parameter is $r$, the radius of the sphere that indeed defines the enveloppe of the cluster. A too small value of $r$ would lead to a too high number of clusters and outliers, whereas a too large value of $r$ would lead to a too small number of clusters, showing heterogeneity. Authors even warn about the fact that choice of $r$ needs a preliminary study since it can completely change clustering results."
      ]
    },
    {
      "cell_type": "markdown",
      "metadata": {
        "id": "wE6v_qpl46Iz",
        "colab_type": "text"
      },
      "source": [
        "### Radius $r$ sensitivity analysis"
      ]
    },
    {
      "cell_type": "markdown",
      "metadata": {
        "id": "QhqIp462ewdW",
        "colab_type": "text"
      },
      "source": [
        "We use $d_{URL}$ as the distance measure between the URLs we want to cluster. Since $d_{URL} \\in [0, 1]$ by construction, we choose to make $r$ vary within a range at first. Following we compute a sort of *grid search* over parameters $r$ and $minPoints$"
      ]
    },
    {
      "cell_type": "code",
      "metadata": {
        "id": "Z19I3YRFofuf",
        "colab_type": "code",
        "colab": {
          "base_uri": "https://localhost:8080/",
          "height": 676
        },
        "outputId": "cbc1f498-53bc-4cdb-f5c7-1275bb0133df"
      },
      "source": [
        "%%time\n",
        "U = df_url['url'].drop_duplicates().sample(frac=0.05).tolist()\n",
        "print('Unique URL: %i\\n' %len(U))\n",
        "array_U = np.arange(len(U)).reshape(-1, 1)\n",
        "\n",
        "#calculate distances between each pair of URLs using url_distance\n",
        "url_matrix = np.zeros((len(U),len(U)), dtype=np.float)\n",
        "for i in range(0, len(U)):\n",
        "  for j in range(0, len(U)):\n",
        "      url_matrix[i,j] = np.round(url_distance(U[i],U[j]),4)\n",
        "\n",
        "clustering_results = {'r': [],\n",
        "                      'minPoints': [],\n",
        "                      'N_clusters': [],\n",
        "                      'Noise_elements': []}\n",
        "for r in np.arange(.025, 1, 0.025):\n",
        "  for minPoints in np.arange(1,11):\n",
        "    res_tmp = dbscan(url_matrix, \n",
        "                     metric='precomputed', \n",
        "                     eps=np.round(r, 3), \n",
        "                     min_samples=minPoints)\n",
        "    n_clusters_tmp = len(np.unique(res_tmp[1]))\n",
        "    n_noise_tmp = np.count_nonzero(res_tmp[1]==-1)\n",
        "    \n",
        "    #update results dictionary\n",
        "    clustering_results['r'].append(r)\n",
        "    clustering_results['minPoints'].append(minPoints)\n",
        "    clustering_results['N_clusters'].append(n_clusters_tmp)\n",
        "    clustering_results['Noise_elements'].append(n_noise_tmp)\n",
        "    \n",
        "#output results to data frame\n",
        "df_res = pd.DataFrame(clustering_results)\n",
        "df_res['frac_noise'] = np.round(100.*df_res['Noise_elements']/len(U), 1)\n",
        "df_clusters = df_res[df_res['minPoints']==4][['r', 'N_clusters']].reset_index(drop=True)\n",
        "df_noise = df_res[df_res['minPoints']==4][['r', 'frac_noise']].reset_index(drop=True)\n",
        "\n",
        "#display results\n",
        "plt.figure(figsize=(8,10))\n",
        "plt.subplot(2, 1, 1);\n",
        "sns.lineplot(x=df_clusters['r'], \n",
        "              y=df_clusters['N_clusters']);\n",
        "plt.subplot(2, 1, 2);\n",
        "sns.lineplot(x=df_noise['r'],\n",
        "              y=df_noise['frac_noise']);"
      ],
      "execution_count": null,
      "outputs": [
        {
          "output_type": "stream",
          "text": [
            "Unique URL: 521\n",
            "\n",
            "CPU times: user 15min 56s, sys: 123 ms, total: 15min 56s\n",
            "Wall time: 15min 57s\n"
          ],
          "name": "stdout"
        },
        {
          "output_type": "display_data",
          "data": {
            "image/png": "[encoded data removed]",
            "text/plain": [
              "<Figure size 576x720 with 2 Axes>"
            ]
          },
          "metadata": {
            "tags": []
          }
        }
      ]
    },
    {
      "cell_type": "code",
      "metadata": {
        "id": "J3jmrDcX-_TL",
        "colab_type": "code",
        "colab": {
          "base_uri": "https://localhost:8080/",
          "height": 676
        },
        "outputId": "4013da8e-bb5a-4842-c062-f41dd5a12d9f"
      },
      "source": [
        "%%time\n",
        "U = df_url['url'].drop_duplicates().sample(frac=0.1).tolist()\n",
        "print('Unique URL: %i\\n' %len(U))\n",
        "array_U = np.arange(len(U)).reshape(-1, 1)\n",
        "\n",
        "#calculate distances between each pair of URLs using url_distance\n",
        "url_matrix = np.zeros((len(U),len(U)), dtype=np.float)\n",
        "for i in range(0, len(U)):\n",
        "  for j in range(0, len(U)):\n",
        "      url_matrix[i,j] = np.round(url_distance(U[i],U[j]),4)\n",
        "\n",
        "clustering_results = {'r': [],\n",
        "                      'minPoints': [],\n",
        "                      'N_clusters': [],\n",
        "                      'Noise_elements': []}\n",
        "for r in np.arange(.025, 1, 0.025):\n",
        "  for minPoints in np.arange(1,11):\n",
        "    res_tmp = dbscan(url_matrix, \n",
        "                     metric='precomputed', \n",
        "                     eps=np.round(r, 3), \n",
        "                     min_samples=minPoints)\n",
        "    n_clusters_tmp = len(np.unique(res_tmp[1]))\n",
        "    n_noise_tmp = np.count_nonzero(res_tmp[1]==-1)\n",
        "    \n",
        "    #update results dictionary\n",
        "    clustering_results['r'].append(r)\n",
        "    clustering_results['minPoints'].append(minPoints)\n",
        "    clustering_results['N_clusters'].append(n_clusters_tmp)\n",
        "    clustering_results['Noise_elements'].append(n_noise_tmp)\n",
        "    \n",
        "#output results to data frame\n",
        "df_res = pd.DataFrame(clustering_results)\n",
        "df_res['frac_noise'] = np.round(100.*df_res['Noise_elements']/len(U), 1)\n",
        "df_clusters = df_res[df_res['minPoints']==4][['r', 'N_clusters']].reset_index(drop=True)\n",
        "df_noise = df_res[df_res['minPoints']==4][['r', 'frac_noise']].reset_index(drop=True)\n",
        "\n",
        "#display results\n",
        "plt.figure(figsize=(8,10))\n",
        "plt.subplot(2, 1, 1);\n",
        "sns.lineplot(x=df_clusters['r'], \n",
        "              y=df_clusters['N_clusters']);\n",
        "plt.subplot(2, 1, 2);\n",
        "sns.lineplot(x=df_noise['r'],\n",
        "              y=df_noise['frac_noise']);"
      ],
      "execution_count": null,
      "outputs": [
        {
          "output_type": "stream",
          "text": [
            "Unique URL: 1041\n",
            "\n",
            "CPU times: user 1h 1min 49s, sys: 461 ms, total: 1h 1min 49s\n",
            "Wall time: 1h 1min 52s\n"
          ],
          "name": "stdout"
        },
        {
          "output_type": "display_data",
          "data": {
            "image/png": "[encoded data removed]",
            "text/plain": [
              "<Figure size 576x720 with 2 Axes>"
            ]
          },
          "metadata": {
            "tags": []
          }
        }
      ]
    },
    {
      "cell_type": "code",
      "metadata": {
        "id": "lkuQM55F_A-B",
        "colab_type": "code",
        "colab": {
          "base_uri": "https://localhost:8080/",
          "height": 676
        },
        "outputId": "e3d23015-a90a-481a-a32c-93ce40d640fc"
      },
      "source": [
        "%%time\n",
        "U = df_url['url'].drop_duplicates().sample(frac=0.2).tolist()\n",
        "print('Unique URL: %i\\n' %len(U))\n",
        "array_U = np.arange(len(U)).reshape(-1, 1)\n",
        "\n",
        "#calculate distances between each pair of URLs using url_distance\n",
        "url_matrix = np.zeros((len(U),len(U)), dtype=np.float)\n",
        "for i in range(0, len(U)):\n",
        "  for j in range(0, len(U)):\n",
        "      url_matrix[i,j] = np.round(url_distance(U[i],U[j]),4)\n",
        "\n",
        "clustering_results = {'r': [],\n",
        "                      'minPoints': [],\n",
        "                      'N_clusters': [],\n",
        "                      'Noise_elements': []}\n",
        "for r in np.arange(.025, 1, 0.025):\n",
        "  for minPoints in np.arange(1,11):\n",
        "    res_tmp = dbscan(url_matrix, \n",
        "                     metric='precomputed', \n",
        "                     eps=np.round(r, 3), \n",
        "                     min_samples=minPoints)\n",
        "    n_clusters_tmp = len(np.unique(res_tmp[1]))\n",
        "    n_noise_tmp = np.count_nonzero(res_tmp[1]==-1)\n",
        "    \n",
        "    #update results dictionary\n",
        "    clustering_results['r'].append(r)\n",
        "    clustering_results['minPoints'].append(minPoints)\n",
        "    clustering_results['N_clusters'].append(n_clusters_tmp)\n",
        "    clustering_results['Noise_elements'].append(n_noise_tmp)\n",
        "    \n",
        "#output results to data frame\n",
        "df_res = pd.DataFrame(clustering_results)\n",
        "df_res['frac_noise'] = np.round(100.*df_res['Noise_elements']/len(U), 1)\n",
        "df_clusters = df_res[df_res['minPoints']==4][['r', 'N_clusters']].reset_index(drop=True)\n",
        "df_noise = df_res[df_res['minPoints']==4][['r', 'frac_noise']].reset_index(drop=True)\n",
        "\n",
        "#display results\n",
        "plt.figure(figsize=(8,10))\n",
        "plt.subplot(2, 1, 1);\n",
        "sns.lineplot(x=df_clusters['r'], \n",
        "              y=df_clusters['N_clusters']);\n",
        "plt.subplot(2, 1, 2);\n",
        "sns.lineplot(x=df_noise['r'],\n",
        "              y=df_noise['frac_noise']);"
      ],
      "execution_count": null,
      "outputs": [
        {
          "output_type": "stream",
          "text": [
            "Unique URL: 2082\n",
            "\n",
            "CPU times: user 4h 20min 39s, sys: 2.18 s, total: 4h 20min 41s\n",
            "Wall time: 4h 20min 54s\n"
          ],
          "name": "stdout"
        },
        {
          "output_type": "display_data",
          "data": {
            "image/png": "[encoded data removed]",
            "text/plain": [
              "<Figure size 576x720 with 2 Axes>"
            ]
          },
          "metadata": {
            "tags": []
          }
        }
      ]
    },
    {
      "cell_type": "code",
      "metadata": {
        "id": "5QSG-ugHilw8",
        "colab_type": "code",
        "colab": {
          "base_uri": "https://localhost:8080/",
          "height": 676
        },
        "outputId": "ac280ec7-cd25-4684-d026-42b93f99e64e"
      },
      "source": [
        "%%time\n",
        "U = df_url['url'].drop_duplicates().sample(frac=0.3).tolist()\n",
        "print('Unique URL: %i\\n' %len(U))\n",
        "array_U = np.arange(len(U)).reshape(-1, 1)\n",
        "\n",
        "#calculate distances between each pair of URLs using url_distance\n",
        "url_matrix = np.zeros((len(U),len(U)), dtype=np.float)\n",
        "for i in range(0, len(U)):\n",
        "  for j in range(0, len(U)):\n",
        "      url_matrix[i,j] = np.round(url_distance(U[i],U[j]),4)\n",
        "\n",
        "clustering_results = {'r': [],\n",
        "                      'minPoints': [],\n",
        "                      'N_clusters': [],\n",
        "                      'Noise_elements': []}\n",
        "for r in np.arange(.025, 1, 0.025):\n",
        "  for minPoints in np.arange(1,11):\n",
        "    res_tmp = dbscan(url_matrix, \n",
        "                     metric='precomputed', \n",
        "                     eps=np.round(r, 3), \n",
        "                     min_samples=minPoints)\n",
        "    n_clusters_tmp = len(np.unique(res_tmp[1]))\n",
        "    n_noise_tmp = np.count_nonzero(res_tmp[1]==-1)\n",
        "    \n",
        "    #update results dictionary\n",
        "    clustering_results['r'].append(r)\n",
        "    clustering_results['minPoints'].append(minPoints)\n",
        "    clustering_results['N_clusters'].append(n_clusters_tmp)\n",
        "    clustering_results['Noise_elements'].append(n_noise_tmp)\n",
        "    \n",
        "#output results to data frame\n",
        "df_res = pd.DataFrame(clustering_results)\n",
        "df_res['frac_noise'] = np.round(100.*df_res['Noise_elements']/len(U), 1)\n",
        "df_clusters = df_res[df_res['minPoints']==4][['r', 'N_clusters']].reset_index(drop=True)\n",
        "df_noise = df_res[df_res['minPoints']==4][['r', 'frac_noise']].reset_index(drop=True)\n",
        "\n",
        "#display results\n",
        "plt.figure(figsize=(8,10))\n",
        "plt.subplot(2, 1, 1);\n",
        "sns.lineplot(x=df_clusters['r'], \n",
        "              y=df_clusters['N_clusters']);\n",
        "plt.subplot(2, 1, 2);\n",
        "sns.lineplot(x=df_noise['r'],\n",
        "              y=df_noise['frac_noise']);"
      ],
      "execution_count": null,
      "outputs": [
        {
          "output_type": "stream",
          "text": [
            "Unique URL: 3123\n",
            "\n",
            "CPU times: user 9h 27min 47s, sys: 5.64 s, total: 9h 27min 52s\n",
            "Wall time: 9h 28min 12s\n"
          ],
          "name": "stdout"
        },
        {
          "output_type": "display_data",
          "data": {
            "image/png": "[encoded data removed]",
            "text/plain": [
              "<Figure size 576x720 with 2 Axes>"
            ]
          },
          "metadata": {
            "tags": [],
            "needs_background": "light"
          }
        }
      ]
    },
    {
      "cell_type": "markdown",
      "metadata": {
        "id": "p1LAt9gCirom",
        "colab_type": "text"
      },
      "source": [
        "## 3. Distance matrix optimisation"
      ]
    },
    {
      "cell_type": "markdown",
      "metadata": {
        "id": "Nmwg5yjmmv9u",
        "colab_type": "text"
      },
      "source": [
        "Various solutions may help in saving computation time :\n",
        "- Using scipy distance.cdist(source written in c) to calculate the distances between all pairs\n",
        "- Use numpy instead of pandas\n",
        "- Jit compile the jaccard distance function as it is being called large number of times\n",
        "\n",
        "**Number of available libraries that can be used in JIT numba nopython mode is fairly limited (pretty much to numpy arrays). Numba cannot infer data types, they must be defined explicitly when creating objects**"
      ]
    },
    {
      "cell_type": "code",
      "metadata": {
        "id": "hDaB06FN8XQK",
        "colab_type": "code",
        "colab": {}
      },
      "source": [
        "@nb.jit(nopython=True, cache=True)\n",
        "def levenshtein_distance2_jit(s1, s2):\n",
        "  \"\"\"Jited funciton to calculate url distance using custom\n",
        "  Levenshtein distance (remplacement is weighted 2)\n",
        "  \"\"\"\n",
        "  l1, l2 = len(s1), len(s2)\n",
        "\n",
        "  if s1 == s2:\n",
        "    return 0\n",
        "  elif l1 == 0:\n",
        "    return l2\n",
        "  elif l2 == 0:\n",
        "    return l1\n",
        "\n",
        "  v0 = np.zeros(l2+1, dtype=np.float64)\n",
        "  v1 = np.zeros(l2+1, dtype=np.float64)\n",
        "  for i in range(len(v0)):\n",
        "    v0[i] = i\n",
        "  for i in range(l1):\n",
        "    v1[0] = i+1\n",
        "    for j in range(l2):\n",
        "      if s1[i] == s2[j]:\n",
        "        C = 0\n",
        "      else:\n",
        "        C = 2\n",
        "      v1[j+1] = min(v1[j]+1, v0[j+1]+1, v0[j]+C)\n",
        "    for j in range(len(v0)):\n",
        "      v0[j] = v1[j]\n",
        "\n",
        "  return v1[l2]\n",
        "\n",
        "def url_distance_jit(s1, s2):\n",
        "  len1, len2 = len(s1), len(s2)\n",
        "\n",
        "  if s1 == s2:\n",
        "    return 0\n",
        "  elif len1 == 0:\n",
        "    return len2\n",
        "  elif len2 == 0:\n",
        "    return len1\n",
        "\n",
        "  return np.float64(1 - (len1+len2-levenshtein_distance2_jit(s1, s2))/(len1+len2))"
      ],
      "execution_count": 129,
      "outputs": []
    },
    {
      "cell_type": "code",
      "metadata": {
        "id": "2B2irpberNFf",
        "colab_type": "code",
        "colab": {
          "base_uri": "https://localhost:8080/",
          "height": 50
        },
        "outputId": "a287cee9-173e-4052-b200-a628b3371b61"
      },
      "source": [
        "U = df_url['url'].drop_duplicates().sample(frac=0.001).tolist()\n",
        "print('Unique URL: %i\\n' %len(U))"
      ],
      "execution_count": 138,
      "outputs": [
        {
          "output_type": "stream",
          "text": [
            "Unique URL: 10\n",
            "\n"
          ],
          "name": "stdout"
        }
      ]
    },
    {
      "cell_type": "code",
      "metadata": {
        "id": "9RIAi3Jtnf9Q",
        "colab_type": "code",
        "colab": {
          "base_uri": "https://localhost:8080/",
          "height": 33
        },
        "outputId": "d7afd237-4c30-4db2-db2b-9eec248c5b5a"
      },
      "source": [
        "%%timeit\n",
        "\n",
        "#calculate distances between each pair of URLs using JIT url_distance\n",
        "url_matrix = np.zeros((len(U),len(U)), dtype=np.float)\n",
        "for i in range(0, len(U)):\n",
        "  for j in range(0, len(U)):\n",
        "      url_matrix[i,j] = np.round(url_distance_jit(U[i],U[j]),4)"
      ],
      "execution_count": 139,
      "outputs": [
        {
          "output_type": "stream",
          "text": [
            "10 loops, best of 3: 155 ms per loop\n"
          ],
          "name": "stdout"
        }
      ]
    },
    {
      "cell_type": "code",
      "metadata": {
        "id": "NmweVNpTq06X",
        "colab_type": "code",
        "colab": {
          "base_uri": "https://localhost:8080/",
          "height": 33
        },
        "outputId": "d3734841-295e-4c81-bc0b-de4541fdacd3"
      },
      "source": [
        "%%timeit\n",
        "\n",
        "#calculate distances between each pair of URLs using url_distance\n",
        "url_matrix = np.zeros((len(U),len(U)), dtype=np.float)\n",
        "for i in range(0, len(U)):\n",
        "  for j in range(0, len(U)):\n",
        "      url_matrix[i,j] = np.round(url_distance(U[i],U[j]),4)"
      ],
      "execution_count": 140,
      "outputs": [
        {
          "output_type": "stream",
          "text": [
            "1 loop, best of 3: 1.12 s per loop\n"
          ],
          "name": "stdout"
        }
      ]
    },
    {
      "cell_type": "code",
      "metadata": {
        "id": "_YEHvH3Zq6Gv",
        "colab_type": "code",
        "colab": {}
      },
      "source": [
        ""
      ],
      "execution_count": null,
      "outputs": []
    }
  ]
}